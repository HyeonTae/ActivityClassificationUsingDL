{
 "cells": [
  {
   "cell_type": "code",
   "execution_count": 1,
   "metadata": {},
   "outputs": [],
   "source": [
    "import json\n",
    "import os\n",
    "from tqdm import tqdm"
   ]
  },
  {
   "cell_type": "code",
   "execution_count": 2,
   "metadata": {},
   "outputs": [],
   "source": [
    "data_name = 'rico_seq2seq_add'\n",
    "threshold = 3.0"
   ]
  },
  {
   "cell_type": "code",
   "execution_count": 3,
   "metadata": {},
   "outputs": [],
   "source": [
    "data = json.loads(open(\"result/\" + data_name + \"/\" + data_name + \"_t\" + str(threshold) + \".json\").read())\n",
    "save_path = \"class_classification_result/\" + data_name\n",
    "path = \"/home/hopemini/RICO/activity_image/train/\"\n",
    "if not os.path.isdir(save_path):\n",
    "    os.mkdir(save_path)\n",
    "save_path = save_path + \"/\" + data_name + \"_t\" + str(threshold)\n",
    "if not os.path.isdir(save_path):\n",
    "    os.mkdir(save_path)\n",
    "for i in data.keys():\n",
    "    if not os.path.isdir(save_path + \"/\" + i):\n",
    "        os.mkdir(save_path + \"/\" + i)"
   ]
  },
  {
   "cell_type": "code",
   "execution_count": 4,
   "metadata": {},
   "outputs": [
    {
     "name": "stderr",
     "output_type": "stream",
     "text": [
      "100%|██████████| 107/107 [00:50<00:00,  2.11it/s]\n"
     ]
    }
   ],
   "source": [
    "for i in tqdm(data.keys()):\n",
    "    with open(save_path + \"/\" + i + \"/K_\" + i + \"_image_list.txt\", \"w\") as f:\n",
    "        \n",
    "        f.write(\"The number of images in this class : \" + str(len(data[i])) + \"\\nBase : \" + data[i][0])\n",
    "        data_length = 100 if len(data[i]) > 100 else len(data[i])\n",
    "        for j in range(0,data_length):\n",
    "            f.write(\"\\nTOP\" + str(j) + \" : \" + data[i][j])\n",
    "            file_name = path + data[i][j] + \".jpg\"\n",
    "            os.system(\"cp \" + file_name + \" \" + save_path + \"/\" + i + \"/\")"
   ]
  },
  {
   "cell_type": "code",
   "execution_count": null,
   "metadata": {},
   "outputs": [],
   "source": []
  }
 ],
 "metadata": {
  "kernelspec": {
   "display_name": "Python 3",
   "language": "python",
   "name": "python3"
  },
  "language_info": {
   "codemirror_mode": {
    "name": "ipython",
    "version": 3
   },
   "file_extension": ".py",
   "mimetype": "text/x-python",
   "name": "python",
   "nbconvert_exporter": "python",
   "pygments_lexer": "ipython3",
   "version": "3.6.7"
  }
 },
 "nbformat": 4,
 "nbformat_minor": 2
}
